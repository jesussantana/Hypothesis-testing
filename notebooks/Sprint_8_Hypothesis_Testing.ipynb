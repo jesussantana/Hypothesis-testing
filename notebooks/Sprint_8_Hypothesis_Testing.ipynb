{
 "metadata": {
  "language_info": {
   "codemirror_mode": {
    "name": "ipython",
    "version": 3
   },
   "file_extension": ".py",
   "mimetype": "text/x-python",
   "name": "python",
   "nbconvert_exporter": "python",
   "pygments_lexer": "ipython3",
   "version": "3.8.5"
  },
  "orig_nbformat": 2,
  "kernelspec": {
   "name": "python385jvsc74a57bd031f2aee4e71d21fbe5cf8b01ff0e069b9275f58929596ceb00d14d90e3e16cd6",
   "display_name": "Python 3.8.5 64-bit"
  },
  "metadata": {
   "interpreter": {
    "hash": "31f2aee4e71d21fbe5cf8b01ff0e069b9275f58929596ceb00d14d90e3e16cd6"
   }
  }
 },
 "nbformat": 4,
 "nbformat_minor": 2,
 "cells": [
  {
   "source": [
    "# IT Academy - Data Science with Python\n",
    "## Sprint 8: Hypothesis Testing\n",
    "### [Github Hypothesis Testing](https://github.com/jesussantana/Hypothesis-testing)\n",
    "\n",
    "[![forthebadge made-with-python](http://ForTheBadge.com/images/badges/made-with-python.svg)](https://www.python.org/)  \n",
    "[![Made withJupyter](https://img.shields.io/badge/Made%20with-Jupyter-orange?style=for-the-badge&logo=Jupyter)](https://jupyter.org/try)  \n",
    "[![wakatime](https://wakatime.com/badge/github/jesussantana/Hypothesis-testing.svg)](https://wakatime.com/badge/github/jesussantana/Hypothesis-testing)"
   ],
   "cell_type": "markdown",
   "metadata": {}
  },
  {
   "source": [
    "### Exercise 1: \n",
    "  - Grab a sports theme dataset you like and select an attribute from the dataset. Calculate the p-value and say if you reject the null hypothesis by taking a 5% alpha."
   ],
   "cell_type": "markdown",
   "metadata": {}
  },
  {
   "cell_type": "code",
   "execution_count": 13,
   "metadata": {},
   "outputs": [],
   "source": [
    "import pandas as pd \n",
    "import numpy as np\n",
    "import scipy as sp\n",
    "import datetime\n",
    "import warnings\n",
    "import time\n",
    "import math\n",
    "\n",
    "import matplotlib as mpl\n",
    "import matplotlib.pyplot as plt\n",
    "import seaborn as sns\n",
    "import IPython as ip\n",
    "\n",
    "import scipy.stats as stats\n",
    "\n",
    "mpl.style.use('ggplot')\n",
    "mpl.rc('font', family='Noto Sans CJK TC')\n",
    "ip.display.set_matplotlib_formats('svg')\n",
    "\n",
    "warnings.filterwarnings('ignore')\n",
    "sns.set_theme(style='darkgrid', palette='deep')"
   ]
  },
  {
   "cell_type": "code",
   "execution_count": 14,
   "metadata": {},
   "outputs": [],
   "source": [
    "np.random.seed(20180701+3)"
   ]
  },
  {
   "cell_type": "code",
   "execution_count": 15,
   "metadata": {},
   "outputs": [],
   "source": [
    "pd.set_option('display.max_columns', None)\n",
    "\n",
    "path = '../data/'\n",
    "file = 'raw/MLB_Stats.csv'\n",
    "\n",
    "df_raw = pd.read_csv(path+file)"
   ]
  },
  {
   "cell_type": "code",
   "execution_count": 16,
   "metadata": {},
   "outputs": [],
   "source": [
    "df = df_raw.copy()"
   ]
  },
  {
   "cell_type": "code",
   "execution_count": 17,
   "metadata": {},
   "outputs": [
    {
     "output_type": "execute_result",
     "data": {
      "text/plain": [
       "    playerID    Player Name  weight  height bats throws  Season League teamID  \\\n",
       "0  aardsda01  David Aardsma     215      75    R      R    2004     NL    SFN   \n",
       "1  aardsda01  David Aardsma     215      75    R      R    2007     AL    CHA   \n",
       "2  aardsda01  David Aardsma     215      75    R      R    2008     AL    BOS   \n",
       "3  aardsda01  David Aardsma     215      75    R      R    2009     AL    SEA   \n",
       "4  aardsda01  David Aardsma     215      75    R      R    2012     AL    NYA   \n",
       "\n",
       "                   Team             Franchise   G  AB  R  H  2B  3B  HR  RBI  \\\n",
       "0  San Francisco Giants  San Francisco Giants  11   0  0  0   0   0   0    0   \n",
       "1     Chicago White Sox     Chicago White Sox  25   0  0  0   0   0   0    0   \n",
       "2        Boston Red Sox        Boston Red Sox  47   1  0  0   0   0   0    0   \n",
       "3      Seattle Mariners      Seattle Mariners  73   0  0  0   0   0   0    0   \n",
       "4      New York Yankees      New York Yankees   1   0  0  0   0   0   0    0   \n",
       "\n",
       "   SB  BB  SO  salary  IBB  HBP  SH  SF  PA  \n",
       "0   0   0   0  300000    0    0   0   0   0  \n",
       "1   0   0   0  387500    0    0   0   0   0  \n",
       "2   0   0   1  403250    0    0   0   0   1  \n",
       "3   0   0   0  419000    0    0   0   0   0  \n",
       "4   0   0   0  500000    0    0   0   0   0  "
      ],
      "text/html": "<div>\n<style scoped>\n    .dataframe tbody tr th:only-of-type {\n        vertical-align: middle;\n    }\n\n    .dataframe tbody tr th {\n        vertical-align: top;\n    }\n\n    .dataframe thead th {\n        text-align: right;\n    }\n</style>\n<table border=\"1\" class=\"dataframe\">\n  <thead>\n    <tr style=\"text-align: right;\">\n      <th></th>\n      <th>playerID</th>\n      <th>Player Name</th>\n      <th>weight</th>\n      <th>height</th>\n      <th>bats</th>\n      <th>throws</th>\n      <th>Season</th>\n      <th>League</th>\n      <th>teamID</th>\n      <th>Team</th>\n      <th>Franchise</th>\n      <th>G</th>\n      <th>AB</th>\n      <th>R</th>\n      <th>H</th>\n      <th>2B</th>\n      <th>3B</th>\n      <th>HR</th>\n      <th>RBI</th>\n      <th>SB</th>\n      <th>BB</th>\n      <th>SO</th>\n      <th>salary</th>\n      <th>IBB</th>\n      <th>HBP</th>\n      <th>SH</th>\n      <th>SF</th>\n      <th>PA</th>\n    </tr>\n  </thead>\n  <tbody>\n    <tr>\n      <th>0</th>\n      <td>aardsda01</td>\n      <td>David Aardsma</td>\n      <td>215</td>\n      <td>75</td>\n      <td>R</td>\n      <td>R</td>\n      <td>2004</td>\n      <td>NL</td>\n      <td>SFN</td>\n      <td>San Francisco Giants</td>\n      <td>San Francisco Giants</td>\n      <td>11</td>\n      <td>0</td>\n      <td>0</td>\n      <td>0</td>\n      <td>0</td>\n      <td>0</td>\n      <td>0</td>\n      <td>0</td>\n      <td>0</td>\n      <td>0</td>\n      <td>0</td>\n      <td>300000</td>\n      <td>0</td>\n      <td>0</td>\n      <td>0</td>\n      <td>0</td>\n      <td>0</td>\n    </tr>\n    <tr>\n      <th>1</th>\n      <td>aardsda01</td>\n      <td>David Aardsma</td>\n      <td>215</td>\n      <td>75</td>\n      <td>R</td>\n      <td>R</td>\n      <td>2007</td>\n      <td>AL</td>\n      <td>CHA</td>\n      <td>Chicago White Sox</td>\n      <td>Chicago White Sox</td>\n      <td>25</td>\n      <td>0</td>\n      <td>0</td>\n      <td>0</td>\n      <td>0</td>\n      <td>0</td>\n      <td>0</td>\n      <td>0</td>\n      <td>0</td>\n      <td>0</td>\n      <td>0</td>\n      <td>387500</td>\n      <td>0</td>\n      <td>0</td>\n      <td>0</td>\n      <td>0</td>\n      <td>0</td>\n    </tr>\n    <tr>\n      <th>2</th>\n      <td>aardsda01</td>\n      <td>David Aardsma</td>\n      <td>215</td>\n      <td>75</td>\n      <td>R</td>\n      <td>R</td>\n      <td>2008</td>\n      <td>AL</td>\n      <td>BOS</td>\n      <td>Boston Red Sox</td>\n      <td>Boston Red Sox</td>\n      <td>47</td>\n      <td>1</td>\n      <td>0</td>\n      <td>0</td>\n      <td>0</td>\n      <td>0</td>\n      <td>0</td>\n      <td>0</td>\n      <td>0</td>\n      <td>0</td>\n      <td>1</td>\n      <td>403250</td>\n      <td>0</td>\n      <td>0</td>\n      <td>0</td>\n      <td>0</td>\n      <td>1</td>\n    </tr>\n    <tr>\n      <th>3</th>\n      <td>aardsda01</td>\n      <td>David Aardsma</td>\n      <td>215</td>\n      <td>75</td>\n      <td>R</td>\n      <td>R</td>\n      <td>2009</td>\n      <td>AL</td>\n      <td>SEA</td>\n      <td>Seattle Mariners</td>\n      <td>Seattle Mariners</td>\n      <td>73</td>\n      <td>0</td>\n      <td>0</td>\n      <td>0</td>\n      <td>0</td>\n      <td>0</td>\n      <td>0</td>\n      <td>0</td>\n      <td>0</td>\n      <td>0</td>\n      <td>0</td>\n      <td>419000</td>\n      <td>0</td>\n      <td>0</td>\n      <td>0</td>\n      <td>0</td>\n      <td>0</td>\n    </tr>\n    <tr>\n      <th>4</th>\n      <td>aardsda01</td>\n      <td>David Aardsma</td>\n      <td>215</td>\n      <td>75</td>\n      <td>R</td>\n      <td>R</td>\n      <td>2012</td>\n      <td>AL</td>\n      <td>NYA</td>\n      <td>New York Yankees</td>\n      <td>New York Yankees</td>\n      <td>1</td>\n      <td>0</td>\n      <td>0</td>\n      <td>0</td>\n      <td>0</td>\n      <td>0</td>\n      <td>0</td>\n      <td>0</td>\n      <td>0</td>\n      <td>0</td>\n      <td>0</td>\n      <td>500000</td>\n      <td>0</td>\n      <td>0</td>\n      <td>0</td>\n      <td>0</td>\n      <td>0</td>\n    </tr>\n  </tbody>\n</table>\n</div>"
     },
     "metadata": {},
     "execution_count": 17
    }
   ],
   "source": [
    "df.head()"
   ]
  },
  {
   "cell_type": "code",
   "execution_count": 18,
   "metadata": {},
   "outputs": [
    {
     "output_type": "stream",
     "name": "stdout",
     "text": [
      "<class 'pandas.core.frame.DataFrame'>\nRangeIndex: 28293 entries, 0 to 28292\nData columns (total 28 columns):\n #   Column       Non-Null Count  Dtype \n---  ------       --------------  ----- \n 0   playerID     28293 non-null  object\n 1   Player Name  28293 non-null  object\n 2   weight       28293 non-null  int64 \n 3   height       28293 non-null  int64 \n 4   bats         28293 non-null  object\n 5   throws       28293 non-null  object\n 6   Season       28293 non-null  int64 \n 7   League       28293 non-null  object\n 8   teamID       28293 non-null  object\n 9   Team         28293 non-null  object\n 10  Franchise    28293 non-null  object\n 11  G            28293 non-null  int64 \n 12  AB           28293 non-null  int64 \n 13  R            28293 non-null  int64 \n 14  H            28293 non-null  int64 \n 15  2B           28293 non-null  int64 \n 16  3B           28293 non-null  int64 \n 17  HR           28293 non-null  int64 \n 18  RBI          28293 non-null  int64 \n 19  SB           28293 non-null  int64 \n 20  BB           28293 non-null  int64 \n 21  SO           28293 non-null  int64 \n 22  salary       28293 non-null  int64 \n 23  IBB          28293 non-null  int64 \n 24  HBP          28293 non-null  int64 \n 25  SH           28293 non-null  int64 \n 26  SF           28293 non-null  int64 \n 27  PA           28293 non-null  int64 \ndtypes: int64(20), object(8)\nmemory usage: 6.0+ MB\n"
     ]
    }
   ],
   "source": [
    "df.info()"
   ]
  },
  {
   "cell_type": "code",
   "execution_count": 19,
   "metadata": {},
   "outputs": [
    {
     "output_type": "execute_result",
     "data": {
      "text/plain": [
       "(28293, 28)"
      ]
     },
     "metadata": {},
     "execution_count": 19
    }
   ],
   "source": [
    "df.shape"
   ]
  },
  {
   "cell_type": "code",
   "execution_count": 20,
   "metadata": {},
   "outputs": [
    {
     "output_type": "execute_result",
     "data": {
      "text/plain": [
       "          weight     height     Season          G         AB          R  \\\n",
       "count  28293.000  28293.000  28293.000  28293.000  28293.000  28293.000   \n",
       "mean     199.049     73.500   2000.938     63.934    161.880     21.787   \n",
       "std       22.654      2.287      8.901     47.285    199.407     30.134   \n",
       "min      140.000     66.000   1985.000      1.000      0.000      0.000   \n",
       "25%      185.000     72.000   1994.000     26.000      1.000      0.000   \n",
       "50%      195.000     74.000   2001.000     50.000     57.000      4.000   \n",
       "75%      215.000     75.000   2009.000    101.000    298.000     37.000   \n",
       "max      315.000     83.000   2016.000    163.000    716.000    152.000   \n",
       "\n",
       "               H         2B         3B         HR        RBI         SB  \\\n",
       "count  28293.000  28293.000  28293.000  28293.000  28293.000  28293.000   \n",
       "mean      42.625      8.221      0.909      4.777     20.784      3.108   \n",
       "std       56.201     11.401      1.832      8.384     29.705      7.495   \n",
       "min        0.000      0.000      0.000      0.000      0.000      0.000   \n",
       "25%        0.000      0.000      0.000      0.000      0.000      0.000   \n",
       "50%       10.000      2.000      0.000      0.000      4.000      0.000   \n",
       "75%       76.000     14.000      1.000      6.000     34.000      2.000   \n",
       "max      262.000     59.000     23.000     73.000    165.000    110.000   \n",
       "\n",
       "              BB         SO        salary        IBB        HBP         SH  \\\n",
       "count  28293.000  28293.000  2.829300e+04  28293.000  28293.000  28293.000   \n",
       "mean      15.802     30.376  2.112965e+06      1.326      1.451      1.535   \n",
       "std       23.036     37.624  3.440239e+06      3.161      2.782      2.748   \n",
       "min        0.000      0.000  1.090000e+04      0.000      0.000      0.000   \n",
       "25%        0.000      0.000  3.000000e+05      0.000      0.000      0.000   \n",
       "50%        3.000     15.000  6.000000e+05      0.000      0.000      0.000   \n",
       "75%       25.000     50.000  2.425000e+06      1.000      2.000      2.000   \n",
       "max      232.000    223.000  3.300000e+07    120.000     35.000     39.000   \n",
       "\n",
       "              SF         PA  \n",
       "count  28293.000  28293.000  \n",
       "mean       1.367    183.360  \n",
       "std        2.208    226.217  \n",
       "min        0.000      0.000  \n",
       "25%        0.000      1.000  \n",
       "50%        0.000     66.000  \n",
       "75%        2.000    337.000  \n",
       "max       17.000    783.000  "
      ],
      "text/html": "<div>\n<style scoped>\n    .dataframe tbody tr th:only-of-type {\n        vertical-align: middle;\n    }\n\n    .dataframe tbody tr th {\n        vertical-align: top;\n    }\n\n    .dataframe thead th {\n        text-align: right;\n    }\n</style>\n<table border=\"1\" class=\"dataframe\">\n  <thead>\n    <tr style=\"text-align: right;\">\n      <th></th>\n      <th>weight</th>\n      <th>height</th>\n      <th>Season</th>\n      <th>G</th>\n      <th>AB</th>\n      <th>R</th>\n      <th>H</th>\n      <th>2B</th>\n      <th>3B</th>\n      <th>HR</th>\n      <th>RBI</th>\n      <th>SB</th>\n      <th>BB</th>\n      <th>SO</th>\n      <th>salary</th>\n      <th>IBB</th>\n      <th>HBP</th>\n      <th>SH</th>\n      <th>SF</th>\n      <th>PA</th>\n    </tr>\n  </thead>\n  <tbody>\n    <tr>\n      <th>count</th>\n      <td>28293.000</td>\n      <td>28293.000</td>\n      <td>28293.000</td>\n      <td>28293.000</td>\n      <td>28293.000</td>\n      <td>28293.000</td>\n      <td>28293.000</td>\n      <td>28293.000</td>\n      <td>28293.000</td>\n      <td>28293.000</td>\n      <td>28293.000</td>\n      <td>28293.000</td>\n      <td>28293.000</td>\n      <td>28293.000</td>\n      <td>2.829300e+04</td>\n      <td>28293.000</td>\n      <td>28293.000</td>\n      <td>28293.000</td>\n      <td>28293.000</td>\n      <td>28293.000</td>\n    </tr>\n    <tr>\n      <th>mean</th>\n      <td>199.049</td>\n      <td>73.500</td>\n      <td>2000.938</td>\n      <td>63.934</td>\n      <td>161.880</td>\n      <td>21.787</td>\n      <td>42.625</td>\n      <td>8.221</td>\n      <td>0.909</td>\n      <td>4.777</td>\n      <td>20.784</td>\n      <td>3.108</td>\n      <td>15.802</td>\n      <td>30.376</td>\n      <td>2.112965e+06</td>\n      <td>1.326</td>\n      <td>1.451</td>\n      <td>1.535</td>\n      <td>1.367</td>\n      <td>183.360</td>\n    </tr>\n    <tr>\n      <th>std</th>\n      <td>22.654</td>\n      <td>2.287</td>\n      <td>8.901</td>\n      <td>47.285</td>\n      <td>199.407</td>\n      <td>30.134</td>\n      <td>56.201</td>\n      <td>11.401</td>\n      <td>1.832</td>\n      <td>8.384</td>\n      <td>29.705</td>\n      <td>7.495</td>\n      <td>23.036</td>\n      <td>37.624</td>\n      <td>3.440239e+06</td>\n      <td>3.161</td>\n      <td>2.782</td>\n      <td>2.748</td>\n      <td>2.208</td>\n      <td>226.217</td>\n    </tr>\n    <tr>\n      <th>min</th>\n      <td>140.000</td>\n      <td>66.000</td>\n      <td>1985.000</td>\n      <td>1.000</td>\n      <td>0.000</td>\n      <td>0.000</td>\n      <td>0.000</td>\n      <td>0.000</td>\n      <td>0.000</td>\n      <td>0.000</td>\n      <td>0.000</td>\n      <td>0.000</td>\n      <td>0.000</td>\n      <td>0.000</td>\n      <td>1.090000e+04</td>\n      <td>0.000</td>\n      <td>0.000</td>\n      <td>0.000</td>\n      <td>0.000</td>\n      <td>0.000</td>\n    </tr>\n    <tr>\n      <th>25%</th>\n      <td>185.000</td>\n      <td>72.000</td>\n      <td>1994.000</td>\n      <td>26.000</td>\n      <td>1.000</td>\n      <td>0.000</td>\n      <td>0.000</td>\n      <td>0.000</td>\n      <td>0.000</td>\n      <td>0.000</td>\n      <td>0.000</td>\n      <td>0.000</td>\n      <td>0.000</td>\n      <td>0.000</td>\n      <td>3.000000e+05</td>\n      <td>0.000</td>\n      <td>0.000</td>\n      <td>0.000</td>\n      <td>0.000</td>\n      <td>1.000</td>\n    </tr>\n    <tr>\n      <th>50%</th>\n      <td>195.000</td>\n      <td>74.000</td>\n      <td>2001.000</td>\n      <td>50.000</td>\n      <td>57.000</td>\n      <td>4.000</td>\n      <td>10.000</td>\n      <td>2.000</td>\n      <td>0.000</td>\n      <td>0.000</td>\n      <td>4.000</td>\n      <td>0.000</td>\n      <td>3.000</td>\n      <td>15.000</td>\n      <td>6.000000e+05</td>\n      <td>0.000</td>\n      <td>0.000</td>\n      <td>0.000</td>\n      <td>0.000</td>\n      <td>66.000</td>\n    </tr>\n    <tr>\n      <th>75%</th>\n      <td>215.000</td>\n      <td>75.000</td>\n      <td>2009.000</td>\n      <td>101.000</td>\n      <td>298.000</td>\n      <td>37.000</td>\n      <td>76.000</td>\n      <td>14.000</td>\n      <td>1.000</td>\n      <td>6.000</td>\n      <td>34.000</td>\n      <td>2.000</td>\n      <td>25.000</td>\n      <td>50.000</td>\n      <td>2.425000e+06</td>\n      <td>1.000</td>\n      <td>2.000</td>\n      <td>2.000</td>\n      <td>2.000</td>\n      <td>337.000</td>\n    </tr>\n    <tr>\n      <th>max</th>\n      <td>315.000</td>\n      <td>83.000</td>\n      <td>2016.000</td>\n      <td>163.000</td>\n      <td>716.000</td>\n      <td>152.000</td>\n      <td>262.000</td>\n      <td>59.000</td>\n      <td>23.000</td>\n      <td>73.000</td>\n      <td>165.000</td>\n      <td>110.000</td>\n      <td>232.000</td>\n      <td>223.000</td>\n      <td>3.300000e+07</td>\n      <td>120.000</td>\n      <td>35.000</td>\n      <td>39.000</td>\n      <td>17.000</td>\n      <td>783.000</td>\n    </tr>\n  </tbody>\n</table>\n</div>"
     },
     "metadata": {},
     "execution_count": 20
    }
   ],
   "source": [
    "df.describe().round(3)"
   ]
  },
  {
   "source": [
    "### Normality Tests"
   ],
   "cell_type": "markdown",
   "metadata": {}
  },
  {
   "source": [
    "- Shapiro-Wilk Test"
   ],
   "cell_type": "markdown",
   "metadata": {}
  },
  {
   "cell_type": "code",
   "execution_count": 21,
   "metadata": {},
   "outputs": [
    {
     "output_type": "stream",
     "name": "stdout",
     "text": [
      "stat=0.755, p=0.000\nProbably not Gaussian\n"
     ]
    }
   ],
   "source": [
    "stat, p = stats.shapiro(df.R)\n",
    "print('stat=%.3f, p=%.3f' % (stat, p))\n",
    "if p > 0.05:\n",
    "\tprint('Probably Gaussian')\n",
    "else:\n",
    "\tprint('Probably not Gaussian')"
   ]
  },
  {
   "source": [
    "- D’Agostino’s K^2 Test"
   ],
   "cell_type": "markdown",
   "metadata": {}
  },
  {
   "cell_type": "code",
   "execution_count": 22,
   "metadata": {},
   "outputs": [
    {
     "output_type": "stream",
     "name": "stdout",
     "text": [
      "stat=5783.676, p=0.000\nProbably not Gaussian\n"
     ]
    }
   ],
   "source": [
    "stat, p = stats.normaltest(df.R)\n",
    "print('stat=%.3f, p=%.3f' % (stat, p))\n",
    "if p > 0.05:\n",
    "\tprint('Probably Gaussian')\n",
    "else:\n",
    "\tprint('Probably not Gaussian')"
   ]
  },
  {
   "source": [
    "- Anderson-Darling Test"
   ],
   "cell_type": "markdown",
   "metadata": {}
  },
  {
   "cell_type": "code",
   "execution_count": 23,
   "metadata": {},
   "outputs": [
    {
     "output_type": "stream",
     "name": "stdout",
     "text": [
      "stat=2759.009\nProbably not Gaussian at the 15.0% level\nProbably not Gaussian at the 10.0% level\nProbably not Gaussian at the 5.0% level\nProbably not Gaussian at the 2.5% level\nProbably not Gaussian at the 1.0% level\n"
     ]
    }
   ],
   "source": [
    "result = stats.anderson(df.R)\n",
    "print('stat=%.3f' % (result.statistic))\n",
    "for i in range(len(result.critical_values)):\n",
    "\tsl, cv = result.significance_level[i], result.critical_values[i]\n",
    "\tif result.statistic < cv:\n",
    "\t\tprint('Probably Gaussian at the %.1f%% level' % (sl))\n",
    "\telse:\n",
    "\t\tprint('Probably not Gaussian at the %.1f%% level' % (sl))"
   ]
  },
  {
   "source": [
    "### Correlation Tests"
   ],
   "cell_type": "markdown",
   "metadata": {}
  },
  {
   "source": [
    "- Pearson’s Correlation Coefficient"
   ],
   "cell_type": "markdown",
   "metadata": {}
  },
  {
   "cell_type": "code",
   "execution_count": 24,
   "metadata": {},
   "outputs": [
    {
     "output_type": "stream",
     "name": "stdout",
     "text": [
      "stat=0.974, p=0.000\nProbably dependent\n"
     ]
    }
   ],
   "source": [
    "stat, p = stats.pearsonr(df.R, df.H)\n",
    "print('stat=%.3f, p=%.3f' % (stat, p))\n",
    "if p > 0.05:\n",
    "\tprint('Probably independent')\n",
    "else:\n",
    "\tprint('Probably dependent')"
   ]
  },
  {
   "source": [
    "- Spearman’s Rank Correlation"
   ],
   "cell_type": "markdown",
   "metadata": {}
  },
  {
   "cell_type": "code",
   "execution_count": 25,
   "metadata": {},
   "outputs": [
    {
     "output_type": "stream",
     "name": "stdout",
     "text": [
      "stat=0.978, p=0.000\nProbably dependent\n"
     ]
    }
   ],
   "source": [
    "stat, p = stats.spearmanr(df.R, df.H)\n",
    "print('stat=%.3f, p=%.3f' % (stat, p))\n",
    "if p > 0.05:\n",
    "\tprint('Probably independent')\n",
    "else:\n",
    "\tprint('Probably dependent')"
   ]
  },
  {
   "source": [
    "- Kendall’s Rank Correlation"
   ],
   "cell_type": "markdown",
   "metadata": {}
  },
  {
   "cell_type": "code",
   "execution_count": 26,
   "metadata": {},
   "outputs": [
    {
     "output_type": "stream",
     "name": "stdout",
     "text": [
      "stat=0.914, p=0.000\nProbably dependent\n"
     ]
    }
   ],
   "source": [
    "stat, p = stats.kendalltau(df.R, df.H)\n",
    "print('stat=%.3f, p=%.3f' % (stat, p))\n",
    "if p > 0.05:\n",
    "\tprint('Probably independent')\n",
    "else:\n",
    "\tprint('Probably dependent')"
   ]
  },
  {
   "source": [
    "- Chi-Squared Test"
   ],
   "cell_type": "markdown",
   "metadata": {}
  },
  {
   "cell_type": "code",
   "execution_count": null,
   "metadata": {},
   "outputs": [],
   "source": [
    "stat, p, dof, expected = stats.chi2_contingency(df.R, df.H)\n",
    "print('stat=%.3f, p=%.3f' % (stat, p))\n",
    "if p > 0.05:\n",
    "\tprint('Probably independent')\n",
    "else:\n",
    "\tprint('Probably dependent')"
   ]
  }
 ]
}